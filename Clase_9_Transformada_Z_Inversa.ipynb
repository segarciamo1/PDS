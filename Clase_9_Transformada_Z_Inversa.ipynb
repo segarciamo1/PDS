{
 "cells": [
  {
   "cell_type": "markdown",
   "metadata": {},
   "source": [
    "# Clase 9: Transformada Z Inversa"
   ]
  },
  {
   "cell_type": "code",
   "execution_count": 8,
   "metadata": {},
   "outputs": [
    {
     "name": "stdout",
     "output_type": "stream",
     "text": [
      "Coeficientes de residuos: [-1.+0.5j -1.-0.5j]\n",
      "Polos: [1.+1.j 1.-1.j]\n",
      "Ganancia: [1.]\n",
      "Señal discreta resultante: [ -2.+0.j  -3.+0.j  -2.+0.j   2.+0.j   8.+0.j  12.+0.j   8.+0.j  -8.+0.j\n",
      " -32.+0.j -48.+0.j]\n"
     ]
    }
   ],
   "source": [
    "from scipy import signal\n",
    "import numpy as np\n",
    "\n",
    "# Definir la función de transferencia en el dominio Z\n",
    "num = [1, -4, 3]\n",
    "den = [1, -2, 2]\n",
    "\n",
    "# Calcular los coeficientes de la expansión en fracciones parciales\n",
    "r, p, k = signal.residue(num, den)\n",
    "\n",
    "# Imprimir los resultados\n",
    "print('Coeficientes de residuos:', r)\n",
    "print('Polos:', p)\n",
    "print('Ganancia:', k)\n",
    "\n",
    "# Calcular la inversa de la transformada Z\n",
    "n = np.arange(0, 10)\n",
    "x = np.zeros_like(n, dtype=np.complex128)\n",
    "for i in range(len(r)):\n",
    "    x += r[i] * p[i]**n\n",
    "x *= k\n",
    "\n",
    "# Imprimir la señal discreta resultante\n",
    "print('Señal discreta resultante:', x)"
   ]
  },
  {
   "cell_type": "code",
   "execution_count": null,
   "metadata": {},
   "outputs": [],
   "source": []
  }
 ],
 "metadata": {
  "kernelspec": {
   "display_name": "Python 3",
   "language": "python",
   "name": "python3"
  },
  "language_info": {
   "codemirror_mode": {
    "name": "ipython",
    "version": 3
   },
   "file_extension": ".py",
   "mimetype": "text/x-python",
   "name": "python",
   "nbconvert_exporter": "python",
   "pygments_lexer": "ipython3",
   "version": "3.7.3"
  }
 },
 "nbformat": 4,
 "nbformat_minor": 4
}
