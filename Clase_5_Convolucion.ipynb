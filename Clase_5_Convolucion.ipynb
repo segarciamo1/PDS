{
 "cells": [
  {
   "cell_type": "markdown",
   "metadata": {},
   "source": [
    "# Clase 5: Convolucion."
   ]
  },
  {
   "cell_type": "code",
   "execution_count": 1,
   "metadata": {},
   "outputs": [],
   "source": [
    "import numpy as np\n",
    "import matplotlib.pyplot as plt\n",
    "import random"
   ]
  },
  {
   "cell_type": "code",
   "execution_count": 14,
   "metadata": {},
   "outputs": [
    {
     "name": "stdout",
     "output_type": "stream",
     "text": [
      "x=  [-5, 4, 4, 2, -3, -1, -1, -3, -1]\n",
      "h=  [-2, -3, -1, 0, 4, 5, -5, 5, -5]\n",
      "y=  [ 10   7 -15 -20 -24   0  69  -7  35 -23  -3 -37  -4  10  -5  10   5]\n"
     ]
    },
    {
     "data": {
      "image/png": "[encoded data removed]",
      "text/plain": [
       "<Figure size 432x288 with 1 Axes>"
      ]
     },
     "metadata": {
      "needs_background": "light"
     },
     "output_type": "display_data"
    }
   ],
   "source": [
    "n = 9  # Número de elementos\n",
    "x = []\n",
    "for i in range(n):\n",
    "    numero_aleatorio = random.randint(-5, 5)\n",
    "    x.append(numero_aleatorio)\n",
    "    \n",
    "h = []\n",
    "for i in range(n):\n",
    "    numero_aleatorio = random.randint(-5, 5)\n",
    "    h.append(numero_aleatorio)\n",
    "    \n",
    "y = np.convolve(h, x)\n",
    "\n",
    "n = np.arange(-1,16)\n",
    "\n",
    "\n",
    "print(\"x= \",x)\n",
    "print(\"h= \",h)\n",
    "print(\"y= \",y)\n",
    "\n",
    "# Grafica de la convolución\n",
    "plt.figure()\n",
    "plt.stem(n, y)\n",
    "plt.xlabel('Numero de muestras')\n",
    "plt.ylabel('Amplitud')\n",
    "plt.grid()\n",
    "plt.show()"
   ]
  },
  {
   "cell_type": "code",
   "execution_count": null,
   "metadata": {},
   "outputs": [],
   "source": []
  }
 ],
 "metadata": {
  "kernelspec": {
   "display_name": "Python 3",
   "language": "python",
   "name": "python3"
  },
  "language_info": {
   "codemirror_mode": {
    "name": "ipython",
    "version": 3
   },
   "file_extension": ".py",
   "mimetype": "text/x-python",
   "name": "python",
   "nbconvert_exporter": "python",
   "pygments_lexer": "ipython3",
   "version": "3.7.3"
  }
 },
 "nbformat": 4,
 "nbformat_minor": 4
}
