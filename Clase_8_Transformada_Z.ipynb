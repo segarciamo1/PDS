{
 "cells": [
  {
   "cell_type": "markdown",
   "metadata": {},
   "source": [
    "# Clase 8: Transformada Z"
   ]
  },
  {
   "cell_type": "code",
   "execution_count": 9,
   "metadata": {},
   "outputs": [],
   "source": [
    "from sympy import *\n",
    "import numpy as np\n",
    "import matplotlib.pyplot as plt\n",
    "import random"
   ]
  },
  {
   "cell_type": "code",
   "execution_count": 2,
   "metadata": {},
   "outputs": [],
   "source": [
    "def transZsec(arr, zero):\n",
    "    # La funcion recibe un arreglo quees al cual se le va a sacar la\n",
    "    # transformada y un dato 'zero' que es la posición del cero de la secuencia.\n",
    "    Z = Symbol('Z')\n",
    "    pot = zero\n",
    "    for i in arr:\n",
    "        print(f'X({-pot}) =', i*np.power(Z, pot))\n",
    "        pot -= 1"
   ]
  },
  {
   "cell_type": "code",
   "execution_count": 10,
   "metadata": {},
   "outputs": [
    {
     "name": "stdout",
     "output_type": "stream",
     "text": [
      "X(-2) = 9*Z**2\n",
      "X(-1) = 13*Z\n",
      "X(0) = 14\n",
      "X(1) = 14/Z\n",
      "X(2) = 14/Z**2\n",
      "X(3) = 16/Z**3\n",
      "X(4) = 3/Z**4\n",
      "X(5) = 12/Z**5\n",
      "X(6) = 5/Z**6\n",
      "X(7) = 11/Z**7\n",
      "X(8) = 16/Z**8\n",
      "X(9) = 0\n",
      "X(10) = 0\n",
      "X(11) = 4/Z**11\n",
      "X(12) = 0\n",
      "X(13) = 13/Z**13\n",
      "X(14) = 14/Z**14\n",
      "X(15) = 19/Z**15\n",
      "X(16) = 18/Z**16\n",
      "X(17) = 15/Z**17\n",
      "X(18) = 17/Z**18\n",
      "X(19) = 11/Z**19\n",
      "X(20) = 16/Z**20\n",
      "X(21) = 6/Z**21\n",
      "X(22) = Z**(-22)\n"
     ]
    }
   ],
   "source": [
    "n = 25  # Número de elementos\n",
    "y = []\n",
    "for i in range(n):\n",
    "    numero_aleatorio = random.randint(0, 20)\n",
    "    y.append(numero_aleatorio)\n",
    "\n",
    "\n",
    "arr_trans = transZsec(y, 2)\n"
   ]
  },
  {
   "cell_type": "code",
   "execution_count": 11,
   "metadata": {},
   "outputs": [],
   "source": [
    "def transZfunc(a, despla, desplu):\n",
    "    # Esta función recibe el valor de a para calcular la\n",
    "    # transformada por medio de la serie geométrica.\n",
    "    Z = Symbol('Z')\n",
    "    result = ''\n",
    "    if (desplu == despla):\n",
    "        result += str(np.power(Z, -desplu)) + '('\n",
    "    if (desplu != 0):\n",
    "        for i in range(desplu):\n",
    "            result += str(-np.power(a/Z, i))\n",
    "    result += '+' + str(1/(1-a*np.power(Z, -1))) + ')'\n",
    "    return result"
   ]
  },
  {
   "cell_type": "code",
   "execution_count": 16,
   "metadata": {},
   "outputs": [
    {
     "data": {
      "text/plain": [
       "'Z**(-5)(-1-0.2/Z-0.04/Z**2-0.008/Z**3-0.0016/Z**4+1/(1 - 0.2/Z))'"
      ]
     },
     "execution_count": 16,
     "metadata": {},
     "output_type": "execute_result"
    }
   ],
   "source": [
    "transZfunc(1/5, 5, 5)"
   ]
  }
 ],
 "metadata": {
  "kernelspec": {
   "display_name": "Python 3",
   "language": "python",
   "name": "python3"
  },
  "language_info": {
   "codemirror_mode": {
    "name": "ipython",
    "version": 3
   },
   "file_extension": ".py",
   "mimetype": "text/x-python",
   "name": "python",
   "nbconvert_exporter": "python",
   "pygments_lexer": "ipython3",
   "version": "3.7.3"
  }
 },
 "nbformat": 4,
 "nbformat_minor": 4
}
